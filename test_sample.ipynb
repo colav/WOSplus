{
  "nbformat": 4,
  "nbformat_minor": 0,
  "metadata": {
    "colab": {
      "name": "test_sample.ipynb",
      "version": "0.3.2",
      "provenance": [],
      "include_colab_link": true
    },
    "kernelspec": {
      "display_name": "Python 3",
      "language": "python",
      "name": "python3"
    }
  },
  "cells": [
    {
      "cell_type": "markdown",
      "metadata": {
        "id": "view-in-github",
        "colab_type": "text"
      },
      "source": [
        "<a href=\"https://colab.research.google.com/github/myforkedrepositories/WOSplus/blob/master/test_sample.ipynb\" target=\"_parent\"><img src=\"https://colab.research.google.com/assets/colab-badge.svg\" alt=\"Open In Colab\"/></a>"
      ]
    },
    {
      "metadata": {
        "id": "Ppg7jnEa-NQ4",
        "colab_type": "text"
      },
      "cell_type": "markdown",
      "source": [
        "# WOSplus tests:\n",
        "If run from your environment, install wosplus with\n",
        "```\n",
        "# pip install wosplus\n",
        "```"
      ]
    },
    {
      "metadata": {
        "id": "vqoSot0e-SKf",
        "colab_type": "code",
        "colab": {}
      },
      "cell_type": "code",
      "source": [
        "import os"
      ],
      "execution_count": 0,
      "outputs": []
    },
    {
      "metadata": {
        "id": "eybvz3E0-U43",
        "colab_type": "code",
        "colab": {}
      },
      "cell_type": "code",
      "source": [
        "FROM_REPO=True\n",
        "if not FROM_REPO and os.getcwd()=='/content':\n",
        "    !pip install wosplus > /dev/null\n",
        "    os.mkdir('tmp')\n",
        "    os.chdir('tmp')"
      ],
      "execution_count": 0,
      "outputs": []
    },
    {
      "metadata": {
        "colab_type": "code",
        "id": "8h8QFxvObxdb",
        "outputId": "084c6a59-251d-408c-9d38-a66113483221",
        "colab": {
          "base_uri": "https://localhost:8080/",
          "height": 143
        }
      },
      "cell_type": "code",
      "source": [
        "# Check if colaboratory was launched and install missing requirements\n",
        "if os.getcwd()=='/content':\n",
        "    ! pip install openpyxl xlrd unidecode python-levenshtein requests_testadapter venn > /dev/null\n",
        "    ! git clone https://github.com/colav/WOSplus.git > /dev/null\n",
        "    os.chdir('WOSplus')"
      ],
      "execution_count": 0,
      "outputs": [
        {
          "output_type": "stream",
          "text": [
            "Cloning into 'WOSplus'...\n",
            "remote: Enumerating objects: 64, done.\u001b[K\n",
            "remote: Counting objects: 100% (64/64), done.\u001b[K\n",
            "remote: Compressing objects: 100% (51/51), done.\u001b[K\n",
            "remote: Total 584 (delta 27), reused 42 (delta 12), pack-reused 520\u001b[K\n",
            "Receiving objects: 100% (584/584), 314.88 KiB | 11.66 MiB/s, done.\n",
            "Resolving deltas: 100% (353/353), done.\n"
          ],
          "name": "stdout"
        }
      ]
    },
    {
      "metadata": {
        "colab_type": "code",
        "id": "uwbkDKBbbwvQ",
        "colab": {}
      },
      "cell_type": "code",
      "source": [
        "import wosplus\n",
        "from venn import draw_venn, generate_colors\n",
        "import numpy as np"
      ],
      "execution_count": 0,
      "outputs": []
    },
    {
      "metadata": {
        "colab_type": "code",
        "id": "s2kdcEq8R2Aq",
        "outputId": "858ec8d0-c858-4466-ccd4-be5bc4342d6d",
        "colab": {
          "base_uri": "https://localhost:8080/",
          "height": 35
        }
      },
      "cell_type": "code",
      "source": [
        "%%writefile drive.cfg\n",
        "[FILES]\n",
        "Sample_WOS.xlsx = 1--LJZ4mYyQcaJ93xBdbnYj-ZzdjO2Wq2\n",
        "Sample_SCI.xlsx = 1-3a-hguQTk5ko8JRLCx--EKaslxGVscf\n",
        "Sample_SCP.xlsx = 1-IAWlMdp2U-9L2jvZUio04ub1Ym3PX-H"
      ],
      "execution_count": 0,
      "outputs": [
        {
          "output_type": "stream",
          "text": [
            "Writing drive.cfg\n"
          ],
          "name": "stdout"
        }
      ]
    },
    {
      "metadata": {
        "colab_type": "code",
        "id": "BUzIDf92bwvU",
        "outputId": "dc3ed3b0-8dde-4fd1-c0d8-34e029c7ea81",
        "colab": {
          "base_uri": "https://localhost:8080/",
          "height": 35
        }
      },
      "cell_type": "code",
      "source": [
        "cib=wosplus.wosplus('drive.cfg')\n",
        "\n",
        "cib.load_biblio('Sample_WOS.xlsx')\n",
        "cib.load_biblio('Sample_SCI.xlsx',prefix='SCI')\n",
        "cib.load_biblio('Sample_SCP.xlsx',prefix='SCP')\n",
        "\n",
        "print('before merge: {}'.format( cib.WOS.shape[0]+cib.SCI.shape[0]+cib.SCP.shape[0] )  )"
      ],
      "execution_count": 0,
      "outputs": [
        {
          "output_type": "stream",
          "text": [
            "before merge: 48\n"
          ],
          "name": "stdout"
        }
      ]
    },
    {
      "metadata": {
        "id": "y__t6W9A-jcf",
        "colab_type": "text"
      },
      "cell_type": "markdown",
      "source": [
        "Step by step"
      ]
    },
    {
      "metadata": {
        "id": "VmflxC1t-nw_",
        "colab_type": "code",
        "outputId": "59c4ad2c-36db-4988-d471-a90550007ef3",
        "colab": {
          "base_uri": "https://localhost:8080/",
          "height": 89
        }
      },
      "cell_type": "code",
      "source": [
        "cib.merge(left=\"WOS\", right=\"SCI\", left_DOI=\"DI\", left_TI=\"TI\", \n",
        "          left_extra_journal=\"SO\", left_author=\"AU\", left_year=\"PY\",\n",
        "          right_DOI=\"SCI_DI\", right_TI=\"SCI_TI\", right_extra_journal=\"SCI_SO\", \n",
        "          right_author=\"SCI_AU\", right_year=\"SCI_PY\")\n",
        "\n",
        "if True:\n",
        "    print('intial: {}'.format( cib.WOS.shape[0]+cib.SCI.shape[0]) )\n",
        "    print('final : {}'.format(  cib.WOS_SCI.shape) )\n",
        "\n",
        "cib.merge(left=\"WOS_SCI\", right=\"SCP\", left_DOI=\"DI\", left_TI=\"TI\", \n",
        "               left_extra_journal=\"SO\", left_author=\"AU\", left_year=\"PY\",\n",
        "               right_DOI=\"SCP_DOI\", right_TI=\"SCP_Title\", \n",
        "               right_extra_journal=\"SCP_Source title\", right_author=\"SCP_Authors\",\n",
        "               right_year=\"SCP_Year\")\n",
        "\n",
        "if True:\n",
        "    print('intial: {}'.format( cib.WOS_SCI.shape[0]+cib.SCP.shape[0]) )\n",
        "    print('final : {}'.format(  cib.WOS_SCI_SCP.shape) )"
      ],
      "execution_count": 0,
      "outputs": [
        {
          "output_type": "stream",
          "text": [
            ".intial: 38\n",
            "final : (28, 96)\n",
            ".intial: 38\n",
            "final : (30, 139)\n"
          ],
          "name": "stdout"
        }
      ]
    },
    {
      "metadata": {
        "id": "xROovByj_Hz_",
        "colab_type": "text"
      },
      "cell_type": "markdown",
      "source": [
        "Single step"
      ]
    },
    {
      "metadata": {
        "id": "BjbKYkHT-gx_",
        "colab_type": "code",
        "outputId": "2867970b-060c-4588-8f36-a82c135ebed5",
        "colab": {
          "base_uri": "https://localhost:8080/",
          "height": 35
        }
      },
      "cell_type": "code",
      "source": [
        "cib.mergeall()"
      ],
      "execution_count": 0,
      "outputs": [
        {
          "output_type": "stream",
          "text": [
            "...."
          ],
          "name": "stdout"
        }
      ]
    },
    {
      "metadata": {
        "colab_type": "text",
        "id": "tXQxDy_ts_th"
      },
      "cell_type": "markdown",
      "source": [
        "before merge: 48\n",
        ".intial: 38\n",
        "final : (28, 96)\n",
        "..intial: 38\n",
        "final : (30, 142)"
      ]
    },
    {
      "metadata": {
        "id": "7YIYCaIl-K5s",
        "colab_type": "code",
        "outputId": "f9436530-72d6-4214-e96a-6386b1e43981",
        "colab": {
          "base_uri": "https://localhost:8080/",
          "height": 502
        }
      },
      "cell_type": "code",
      "source": [
        "labels=[\"SCP\",\"SCI\",\"WOS\"]\n",
        "\n",
        "petal_labels={}\n",
        "petal_labels[\"001\"] = cib.WOS.shape[0]\n",
        "petal_labels[\"010\"] = cib.SCI.shape[0]\n",
        "petal_labels[\"011\"] = cib.WOS_SCI.shape[0]\n",
        "petal_labels[\"100\"] = cib.SCP.shape[0]\n",
        "petal_labels[\"101\"] = cib.WOS_SCP.shape[0]\n",
        "petal_labels[\"110\"] = cib.SCI_SCP.shape[0]\n",
        "petal_labels[\"111\"] = cib.WOS_SCI_SCP.shape[0]\n",
        "print(petal_labels)\n",
        "draw_venn(\n",
        "    petal_labels=petal_labels, dataset_labels=labels,\n",
        "    hint_hidden=False, colors=generate_colors(n_colors=3),\n",
        "    figsize=(8, 8), fontsize=14, legend_loc=\"best\", ax=None\n",
        ")\n"
      ],
      "execution_count": 0,
      "outputs": [
        {
          "output_type": "stream",
          "text": [
            "{'001': 27, '010': 11, '011': 28, '100': 10, '101': 29, '110': 15, '111': 30}\n"
          ],
          "name": "stdout"
        },
        {
          "output_type": "execute_result",
          "data": {
            "text/plain": [
              "<matplotlib.axes._subplots.AxesSubplot at 0x7ff5a645c2e8>"
            ]
          },
          "metadata": {
            "tags": []
          },
          "execution_count": 12
        },
        {
          "output_type": "display_data",
          "data": {
            "image/png": "[encoded data removed]",
            "text/plain": [
              "<Figure size 576x576 with 1 Axes>"
            ]
          },
          "metadata": {
            "tags": []
          }
        }
      ]
    },
    {
      "metadata": {
        "id": "_Hbg8LR4-K5u",
        "colab_type": "code",
        "outputId": "85817908-82ca-4080-8d8e-db92febd7ce1",
        "colab": {
          "base_uri": "https://localhost:8080/",
          "height": 499
        }
      },
      "cell_type": "code",
      "source": [
        "cib.plot_sets()"
      ],
      "execution_count": 0,
      "outputs": [
        {
          "output_type": "display_data",
          "data": {
            "text/plain": [
              "<Figure size 288x288 with 0 Axes>"
            ]
          },
          "metadata": {
            "tags": []
          }
        },
        {
          "output_type": "display_data",
          "data": {
            "image/png": "[encoded data removed]",
            "text/plain": [
              "<Figure size 576x576 with 1 Axes>"
            ]
          },
          "metadata": {
            "tags": []
          }
        }
      ]
    },
    {
      "metadata": {
        "colab_type": "text",
        "id": "lyYwEqdojkH2"
      },
      "cell_type": "markdown",
      "source": [
        "## Unitary tests\n",
        "Copy to test.py:\n",
        "```bash\n",
        "cd tests\n",
        "python test.py\n",
        "```"
      ]
    },
    {
      "metadata": {
        "colab_type": "code",
        "id": "ugh0hx54ghMH",
        "colab": {}
      },
      "cell_type": "code",
      "source": [
        "import unittest\n",
        "self = unittest.TestCase('__init__')\n",
        "self.assertTrue(True)\n",
        "\n",
        "self.assertTrue( cib.WOS.shape[0]+cib.SCI.shape[0]+cib.SCP.shape[0] == 48 )\n",
        "                  \n",
        "self.assertTrue ( cib.WOS.shape[0]+cib.SCI.shape[0] == 38  )\n",
        "self.assertTrue (  cib.WOS_SCI.shape[0] == 28 ) \n",
        "        \n",
        "         \n",
        "self.assertTrue( cib.WOS_SCI.shape[0]+cib.SCP.shape[0] == 38  )\n",
        "self.assertTrue( cib.WOS_SCI_SCP.shape[0] == 30  )\n",
        "\n",
        "self.assertTrue(list( cib.WOS_SCI_SCP.Tipo.values )==['WOS','WOS',\n",
        "           'WOS','WOS','WOS','WOS','WOS_SCI','SCI','WOS','WOS','WOS','WOS',\n",
        "           'WOS','WOS','WOS','WOS','WOS','WOS_SCI','WOS_SCI','WOS_SCI',\n",
        "           'WOS_SCP','WOS_SCI_SCP','WOS_SCI_SCP','WOS_SCI_SCP','WOS_SCP',\n",
        "           'WOS_SCI_SCP','WOS_SCI_SCP','WOS_SCI_SCP','SCP','SCP'])"
      ],
      "execution_count": 0,
      "outputs": []
    },
    {
      "metadata": {
        "colab_type": "code",
        "id": "7746G3jUa4dr",
        "outputId": "f1939e9f-d5d8-410a-80d1-c93d94ca3124",
        "colab": {
          "base_uri": "https://localhost:8080/",
          "height": 125
        }
      },
      "cell_type": "code",
      "source": [
        "if os.getcwd()=='/content/WOSplus':\n",
        "    ! cd tests && python3 test.py"
      ],
      "execution_count": 0,
      "outputs": [
        {
          "output_type": "stream",
          "text": [
            "..\n",
            "----------------------------------------------------------------------\n",
            "Ran 2 tests in 10.412s\n",
            "\n",
            "OK\n",
            "........"
          ],
          "name": "stdout"
        }
      ]
    },
    {
      "metadata": {
        "colab_type": "text",
        "id": "WWNF7iZkPbr9"
      },
      "cell_type": "markdown",
      "source": [
        "### In progress... Other database"
      ]
    },
    {
      "metadata": {
        "colab_type": "code",
        "id": "mwVr3x5cbwvY",
        "colab": {}
      },
      "cell_type": "code",
      "source": [
        "cib.load_biblio('Sample_SCP.xlsx',prefix='NEW')"
      ],
      "execution_count": 0,
      "outputs": []
    },
    {
      "metadata": {
        "colab_type": "code",
        "id": "-PpQ4BfdPh_b",
        "colab": {}
      },
      "cell_type": "code",
      "source": [
        "cib.merge(left='WOS_SCI_SCP',right='NEW',right_DOI='NEW_DOI',\n",
        "            right_TI='NEW_Title',\n",
        "            right_extra_journal='NEW_Source title',\n",
        "            right_author='NEW_Authors',\n",
        "            right_year='NEW_Year')"
      ],
      "execution_count": 0,
      "outputs": []
    },
    {
      "metadata": {
        "colab_type": "code",
        "id": "6WWU3mIXPoaL",
        "colab": {}
      },
      "cell_type": "code",
      "source": [
        "cib.WOS_SCI_SCP_NEW.shape"
      ],
      "execution_count": 0,
      "outputs": []
    },
    {
      "metadata": {
        "id": "_xhyp22T-K58",
        "colab_type": "code",
        "colab": {}
      },
      "cell_type": "code",
      "source": [
        ""
      ],
      "execution_count": 0,
      "outputs": []
    },
    {
      "metadata": {
        "id": "52qhDSmu-K5-",
        "colab_type": "code",
        "colab": {}
      },
      "cell_type": "code",
      "source": [
        "for logic in generate_logics(3):\n",
        "    print(logic)"
      ],
      "execution_count": 0,
      "outputs": []
    }
  ]
}