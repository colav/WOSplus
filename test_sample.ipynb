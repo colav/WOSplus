{
 "cells": [
  {
   "cell_type": "markdown",
   "metadata": {
    "colab_type": "text",
    "id": "view-in-github"
   },
   "source": [
    "<a href=\"https://colab.research.google.com/github/myforkedrepositories/WOSplus/blob/master/test_sample.ipynb\" target=\"_parent\"><img src=\"https://colab.research.google.com/assets/colab-badge.svg\" alt=\"Open In Colab\"/></a>"
   ]
  },
  {
   "cell_type": "markdown",
   "metadata": {
    "colab_type": "text",
    "id": "Ppg7jnEa-NQ4"
   },
   "source": [
    "# WOSplus tests:\n",
    "If run from your environment, install wosplus with\n",
    "```\n",
    "# pip install wosplus\n",
    "```"
   ]
  },
  {
   "cell_type": "code",
   "execution_count": null,
   "metadata": {
    "colab": {},
    "colab_type": "code",
    "id": "vqoSot0e-SKf"
   },
   "outputs": [],
   "source": [
    "import os"
   ]
  },
  {
   "cell_type": "code",
   "execution_count": null,
   "metadata": {
    "colab": {},
    "colab_type": "code",
    "id": "eybvz3E0-U43"
   },
   "outputs": [],
   "source": [
    "FROM_REPO=True\n",
    "if not FROM_REPO and os.getcwd()=='/content':\n",
    "    !pip install wosplus > /dev/null\n",
    "    os.mkdir('tmp')\n",
    "    os.chdir('tmp')"
   ]
  },
  {
   "cell_type": "code",
   "execution_count": null,
   "metadata": {
    "colab": {
     "base_uri": "https://localhost:8080/",
     "height": 143
    },
    "colab_type": "code",
    "id": "8h8QFxvObxdb",
    "outputId": "084c6a59-251d-408c-9d38-a66113483221"
   },
   "outputs": [],
   "source": [
    "# Check if colaboratory was launched and install missing requirements\n",
    "if os.getcwd()=='/content':\n",
    "    ! pip install openpyxl xlrd unidecode python-levenshtein requests_testadapter venn > /dev/null\n",
    "    ! git clone https://github.com/colav/WOSplus.git > /dev/null\n",
    "    os.chdir('WOSplus')"
   ]
  },
  {
   "cell_type": "code",
   "execution_count": 1,
   "metadata": {
    "colab": {},
    "colab_type": "code",
    "id": "uwbkDKBbbwvQ"
   },
   "outputs": [],
   "source": [
    "import wosplus\n",
    "from venn import draw_venn, generate_colors\n",
    "import numpy as np"
   ]
  },
  {
   "cell_type": "code",
   "execution_count": 2,
   "metadata": {
    "colab": {
     "base_uri": "https://localhost:8080/",
     "height": 35
    },
    "colab_type": "code",
    "id": "s2kdcEq8R2Aq",
    "outputId": "858ec8d0-c858-4466-ccd4-be5bc4342d6d"
   },
   "outputs": [
    {
     "name": "stdout",
     "output_type": "stream",
     "text": [
      "Overwriting drive.cfg\n"
     ]
    }
   ],
   "source": [
    "%%writefile drive.cfg\n",
    "[FILES]\n",
    "Sample_WOS.xlsx = 1--LJZ4mYyQcaJ93xBdbnYj-ZzdjO2Wq2\n",
    "Sample_SCI.xlsx = 1-3a-hguQTk5ko8JRLCx--EKaslxGVscf\n",
    "Sample_SCP.xlsx = 1-IAWlMdp2U-9L2jvZUio04ub1Ym3PX-H"
   ]
  },
  {
   "cell_type": "code",
   "execution_count": 3,
   "metadata": {
    "colab": {
     "base_uri": "https://localhost:8080/",
     "height": 35
    },
    "colab_type": "code",
    "id": "BUzIDf92bwvU",
    "outputId": "dc3ed3b0-8dde-4fd1-c0d8-34e029c7ea81"
   },
   "outputs": [
    {
     "name": "stdout",
     "output_type": "stream",
     "text": [
      "before merge: 49\n"
     ]
    }
   ],
   "source": [
    "cib=wosplus.wosplus('drive.cfg')\n",
    "#cib.Debug=True\n",
    "cib.load_biblio('Sample_WOS.xlsx')\n",
    "cib.load_biblio('Sample_SCI.xlsx',prefix='SCI')\n",
    "cib.load_biblio('Sample_SCP.xlsx',prefix='SCP')\n",
    "\n",
    "print('before merge: {}'.format( cib.WOS.shape[0]+cib.SCI.shape[0]+cib.SCP.shape[0] )  )"
   ]
  },
  {
   "cell_type": "markdown",
   "metadata": {
    "colab_type": "text",
    "id": "y__t6W9A-jcf"
   },
   "source": [
    "Step by step"
   ]
  },
  {
   "cell_type": "code",
   "execution_count": 4,
   "metadata": {
    "colab": {
     "base_uri": "https://localhost:8080/",
     "height": 89
    },
    "colab_type": "code",
    "id": "VmflxC1t-nw_",
    "outputId": "59c4ad2c-36db-4988-d471-a90550007ef3"
   },
   "outputs": [
    {
     "name": "stdout",
     "output_type": "stream",
     "text": [
      "."
     ]
    },
    {
     "name": "stderr",
     "output_type": "stream",
     "text": [
      "/usr/local/lib/python3.6/dist-packages/pandas/core/frame.py:6692: FutureWarning: Sorting because non-concatenation axis is not aligned. A future version\n",
      "of pandas will change to not sort by default.\n",
      "\n",
      "To accept the future behavior, pass 'sort=False'.\n",
      "\n",
      "To retain the current behavior and silence the warning, pass 'sort=True'.\n",
      "\n",
      "  sort=sort)\n"
     ]
    },
    {
     "name": "stdout",
     "output_type": "stream",
     "text": [
      "intial: 39\n",
      "final : (29, 96)\n",
      ".intial: 39\n",
      "final : (30, 139)\n"
     ]
    },
    {
     "name": "stderr",
     "output_type": "stream",
     "text": [
      "/usr/local/lib/python3.6/dist-packages/pandas/core/frame.py:6692: FutureWarning: Sorting because non-concatenation axis is not aligned. A future version\n",
      "of pandas will change to not sort by default.\n",
      "\n",
      "To accept the future behavior, pass 'sort=False'.\n",
      "\n",
      "To retain the current behavior and silence the warning, pass 'sort=True'.\n",
      "\n",
      "  sort=sort)\n"
     ]
    }
   ],
   "source": [
    "cib.merge(left=\"WOS\", right=\"SCI\", left_DOI=\"DI\", left_TI=\"TI\", \n",
    "          left_extra_journal=\"SO\", left_author=\"AU\", left_year=\"PY\",\n",
    "          right_DOI=\"SCI_DI\", right_TI=\"SCI_TI\", right_extra_journal=\"SCI_SO\", \n",
    "          right_author=\"SCI_AU\", right_year=\"SCI_PY\")\n",
    "\n",
    "if True:\n",
    "    print('intial: {}'.format( cib.WOS.shape[0]+cib.SCI.shape[0]) )\n",
    "    print('final : {}'.format(  cib.WOS_SCI.shape) )\n",
    "\n",
    "cib.merge(left=\"WOS_SCI\", right=\"SCP\", left_DOI=\"DI\", left_TI=\"TI\", \n",
    "               left_extra_journal=\"SO\", left_author=\"AU\", left_year=\"PY\",\n",
    "               right_DOI=\"SCP_DOI\", right_TI=\"SCP_Title\", \n",
    "               right_extra_journal=\"SCP_Source title\", right_author=\"SCP_Authors\",\n",
    "               right_year=\"SCP_Year\")\n",
    "\n",
    "if True:\n",
    "    print('intial: {}'.format( cib.WOS_SCI.shape[0]+cib.SCP.shape[0]) )\n",
    "    print('final : {}'.format(  cib.WOS_SCI_SCP.shape) )"
   ]
  },
  {
   "cell_type": "markdown",
   "metadata": {
    "colab_type": "text",
    "id": "xROovByj_Hz_"
   },
   "source": [
    "Single step"
   ]
  },
  {
   "cell_type": "code",
   "execution_count": 5,
   "metadata": {
    "colab": {
     "base_uri": "https://localhost:8080/",
     "height": 35
    },
    "colab_type": "code",
    "id": "BjbKYkHT-gx_",
    "outputId": "2867970b-060c-4588-8f36-a82c135ebed5"
   },
   "outputs": [
    {
     "name": "stdout",
     "output_type": "stream",
     "text": [
      ".."
     ]
    },
    {
     "name": "stderr",
     "output_type": "stream",
     "text": [
      "/usr/local/lib/python3.6/dist-packages/pandas/core/frame.py:6692: FutureWarning: Sorting because non-concatenation axis is not aligned. A future version\n",
      "of pandas will change to not sort by default.\n",
      "\n",
      "To accept the future behavior, pass 'sort=False'.\n",
      "\n",
      "To retain the current behavior and silence the warning, pass 'sort=True'.\n",
      "\n",
      "  sort=sort)\n"
     ]
    }
   ],
   "source": [
    "cib.mergeall()"
   ]
  },
  {
   "cell_type": "markdown",
   "metadata": {
    "colab_type": "text",
    "id": "tXQxDy_ts_th"
   },
   "source": [
    "before merge: 48\n",
    ".intial: 38\n",
    "final : (28, 96)\n",
    "..intial: 38\n",
    "final : (30, 142)"
   ]
  },
  {
   "cell_type": "code",
   "execution_count": 6,
   "metadata": {
    "colab": {
     "base_uri": "https://localhost:8080/",
     "height": 502
    },
    "colab_type": "code",
    "id": "7YIYCaIl-K5s",
    "outputId": "f9436530-72d6-4214-e96a-6386b1e43981"
   },
   "outputs": [
    {
     "name": "stdout",
     "output_type": "stream",
     "text": [
      "{'001': 15, '010': 1, '011': 4, '100': 1, '101': 2, '110': 1, '111': 6}\n"
     ]
    },
    {
     "data": {
      "text/plain": [
       "<matplotlib.axes._subplots.AxesSubplot at 0x7fc2fcf1e940>"
      ]
     },
     "execution_count": 6,
     "metadata": {},
     "output_type": "execute_result"
    },
    {
     "data": {
      "image/png": "[encoded data removed]",
      "text/plain": [
       "<Figure size 576x576 with 1 Axes>"
      ]
     },
     "metadata": {},
     "output_type": "display_data"
    }
   ],
   "source": [
    "labels=[\"SCP\",\"SCI\",\"WOS\"]\n",
    "\n",
    "petal_labels={}\n",
    "petal_labels[\"001\"] = cib.WOS_SCI_SCP[cib.WOS_SCI_SCP.Tipo == \"WOS\"].shape[0]\n",
    "petal_labels[\"010\"] = cib.WOS_SCI_SCP[cib.WOS_SCI_SCP.Tipo == \"SCI\"].shape[0]\n",
    "petal_labels[\"011\"] = cib.WOS_SCI_SCP[cib.WOS_SCI_SCP.Tipo == \"WOS_SCI\"].shape[0]\n",
    "petal_labels[\"100\"] = cib.WOS_SCI_SCP[cib.WOS_SCI_SCP.Tipo == \"SCP\"].shape[0]\n",
    "petal_labels[\"101\"] = cib.WOS_SCI_SCP[cib.WOS_SCI_SCP.Tipo == \"WOS_SCP\"].shape[0]\n",
    "petal_labels[\"110\"] = cib.WOS_SCI_SCP[cib.WOS_SCI_SCP.Tipo == \"SCI_SCP\"].shape[0]\n",
    "petal_labels[\"111\"] = cib.WOS_SCI_SCP[cib.WOS_SCI_SCP.Tipo == \"WOS_SCI_SCP\"].shape[0]\n",
    "print(petal_labels)\n",
    "draw_venn(\n",
    "    petal_labels=petal_labels, dataset_labels=labels,\n",
    "    hint_hidden=False, colors=generate_colors(n_colors=3),\n",
    "    figsize=(8, 8), fontsize=14, legend_loc=\"best\", ax=None\n",
    ")\n"
   ]
  },
  {
   "cell_type": "code",
   "execution_count": 7,
   "metadata": {
    "colab": {
     "base_uri": "https://localhost:8080/",
     "height": 499
    },
    "colab_type": "code",
    "id": "_Hbg8LR4-K5u",
    "outputId": "85817908-82ca-4080-8d8e-db92febd7ce1"
   },
   "outputs": [
    {
     "data": {
      "text/plain": [
       "<Figure size 288x288 with 0 Axes>"
      ]
     },
     "metadata": {},
     "output_type": "display_data"
    },
    {
     "data": {
      "image/png": "[encoded data removed]",
      "text/plain": [
       "<Figure size 576x576 with 1 Axes>"
      ]
     },
     "metadata": {},
     "output_type": "display_data"
    }
   ],
   "source": [
    "cib.plot_sets()"
   ]
  },
  {
   "cell_type": "markdown",
   "metadata": {
    "colab_type": "text",
    "id": "WWNF7iZkPbr9"
   },
   "source": [
    "### In progress... Other database"
   ]
  },
  {
   "cell_type": "code",
   "execution_count": null,
   "metadata": {
    "colab": {},
    "colab_type": "code",
    "id": "mwVr3x5cbwvY"
   },
   "outputs": [],
   "source": [
    "cib.load_biblio('Sample_SCP.xlsx',prefix='NEW')"
   ]
  },
  {
   "cell_type": "code",
   "execution_count": null,
   "metadata": {
    "colab": {},
    "colab_type": "code",
    "id": "-PpQ4BfdPh_b"
   },
   "outputs": [],
   "source": [
    "cib.merge(left='WOS_SCI_SCP',right='NEW',right_DOI='NEW_DOI',\n",
    "            right_TI='NEW_Title',\n",
    "            right_extra_journal='NEW_Source title',\n",
    "            right_author='NEW_Authors',\n",
    "            right_year='NEW_Year')"
   ]
  },
  {
   "cell_type": "code",
   "execution_count": null,
   "metadata": {
    "colab": {},
    "colab_type": "code",
    "id": "6WWU3mIXPoaL"
   },
   "outputs": [],
   "source": [
    "cib.WOS.shape"
   ]
  },
  {
   "cell_type": "code",
   "execution_count": null,
   "metadata": {
    "colab": {},
    "colab_type": "code",
    "id": "_xhyp22T-K58"
   },
   "outputs": [],
   "source": [
    "for i in [\"WOS\",\"SCI\",\"SCP\",\"WOS_SCI\",\"WOS_SCP\",\"SCI_SCP\",\"WOS_SCI_SCP\"]:\n",
    "    VAL=cib.WOS_SCI_SCP[cib.WOS_SCI_SCP.Tipo == i]\n",
    "    print(VAL.shape,i)\n"
   ]
  },
  {
   "cell_type": "code",
   "execution_count": null,
   "metadata": {
    "colab": {},
    "colab_type": "code",
    "id": "52qhDSmu-K5-"
   },
   "outputs": [],
   "source": [
    "print(cib.type)"
   ]
  },
  {
   "cell_type": "code",
   "execution_count": null,
   "metadata": {},
   "outputs": [],
   "source": [
    "cib.WOS_SCI_SCP[cib.WOS_SCI_SCP.Tipo == \"SCP\"].shape[0]"
   ]
  },
  {
   "cell_type": "code",
   "execution_count": null,
   "metadata": {},
   "outputs": [],
   "source": []
  }
 ],
 "metadata": {
  "colab": {
   "include_colab_link": true,
   "name": "test_sample.ipynb",
   "provenance": [],
   "version": "0.3.2"
  },
  "kernelspec": {
   "display_name": "Python 3",
   "language": "python",
   "name": "python3"
  },
  "language_info": {
   "codemirror_mode": {
    "name": "ipython",
    "version": 3
   },
   "file_extension": ".py",
   "mimetype": "text/x-python",
   "name": "python",
   "nbconvert_exporter": "python",
   "pygments_lexer": "ipython3",
   "version": "3.6.7"
  }
 },
 "nbformat": 4,
 "nbformat_minor": 1
}
