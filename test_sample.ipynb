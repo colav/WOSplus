{
 "cells": [
  {
   "cell_type": "markdown",
   "metadata": {
    "colab_type": "text",
    "id": "view-in-github"
   },
   "source": [
    "[View in Colaboratory](https://colab.research.google.com/github/restrepo/WOSplus/blob/master/test_sample.ipynb)"
   ]
  },
  {
   "cell_type": "code",
   "execution_count": null,
   "metadata": {
    "colab": {
     "base_uri": "https://localhost:8080/",
     "height": 34
    },
    "colab_type": "code",
    "id": "8h8QFxvObxdb",
    "outputId": "0ab5f50f-e79c-41c9-f2d5-04c86a9a76a7"
   },
   "outputs": [],
   "source": [
    "%%bash\n",
    "# Check if colaboratory was launched and install missing requirements\n",
    "if [ \"$(pwd)\" == /content ];then\n",
    "    pip install openpyxl xlrd unidecode python-levenshtein requests_testadapter > /dev/null\n",
    "    git clone https://github.com/restrepo/WOSplus.git > /dev/null\n",
    "    #mv WOSplus/wosplus/* .\n",
    "fi"
   ]
  },
  {
   "cell_type": "code",
   "execution_count": null,
   "metadata": {
    "colab": {},
    "colab_type": "code",
    "id": "TF3UTQqjaLxa"
   },
   "outputs": [],
   "source": [
    "import os\n",
    "if os.getcwd()== '/content':\n",
    "    os.chdir('WOSplus')"
   ]
  },
  {
   "cell_type": "code",
   "execution_count": 1,
   "metadata": {
    "colab": {},
    "colab_type": "code",
    "id": "uwbkDKBbbwvQ"
   },
   "outputs": [],
   "source": [
    "import wosplus"
   ]
  },
  {
   "cell_type": "code",
   "execution_count": 2,
   "metadata": {
    "colab": {
     "base_uri": "https://localhost:8080/",
     "height": 34
    },
    "colab_type": "code",
    "id": "s2kdcEq8R2Aq",
    "outputId": "fac30ce1-7798-428e-d524-ce3f6cb4b0e4"
   },
   "outputs": [
    {
     "name": "stdout",
     "output_type": "stream",
     "text": [
      "Overwriting drive.cfg\n"
     ]
    }
   ],
   "source": [
    "%%writefile drive.cfg\n",
    "[FILES]\n",
    "Sample_WOS.xlsx = 1--LJZ4mYyQcaJ93xBdbnYj-ZzdjO2Wq2\n",
    "Sample_SCI.xlsx = 1-3a-hguQTk5ko8JRLCx--EKaslxGVscf\n",
    "Sample_SCP.xlsx = 1-IAWlMdp2U-9L2jvZUio04ub1Ym3PX-H"
   ]
  },
  {
   "cell_type": "code",
   "execution_count": 3,
   "metadata": {
    "colab": {
     "base_uri": "https://localhost:8080/",
     "height": 136
    },
    "colab_type": "code",
    "id": "BUzIDf92bwvU",
    "outputId": "58d95832-5a8e-44b5-850a-274e57723961"
   },
   "outputs": [
    {
     "name": "stdout",
     "output_type": "stream",
     "text": [
      "before merge: 48\n",
      ".intial: 38\n",
      "final : (28, 96)\n",
      "..intial: 38\n",
      "final : (30, 142)\n",
      "..intial: 37\n",
      "final : (29, 105)\n",
      "..intial: 21\n",
      "final : (15, 89)\n"
     ]
    }
   ],
   "source": [
    "cib=wosplus.wosplus('drive.cfg')\n",
    "\n",
    "cib.load_biblio('Sample_WOS.xlsx')\n",
    "cib.load_biblio('Sample_SCI.xlsx',prefix='SCI')\n",
    "cib.load_biblio('Sample_SCP.xlsx',prefix='SCP')\n",
    "\n",
    "print('before merge: {}'.format( cib.WOS.shape[0]+cib.SCI.shape[0]+cib.SCP.shape[0] )  )\n",
    "\n",
    "cib.merge(left='WOS',right='SCI')\n",
    "\n",
    "if True:\n",
    "    print('intial: {}'.format( cib.WOS.shape[0]+cib.SCI.shape[0]) )\n",
    "    print('final : {}'.format(  cib.WOS_SCI.shape) )\n",
    "\n",
    "cib.merge(left='WOS_SCI',right='SCP')\n",
    "\n",
    "if True:\n",
    "    print('intial: {}'.format( cib.WOS_SCI.shape[0]+cib.SCP.shape[0]) )\n",
    "    print('final : {}'.format(  cib.WOS_SCI_SCP.shape) )\n",
    "    \n",
    "cib.merge(left='WOS',right='SCP')\n",
    "\n",
    "if True:\n",
    "    print('intial: {}'.format( cib.WOS.shape[0]+cib.SCP.shape[0]) )\n",
    "    print('final : {}'.format(  cib.WOS_SCP.shape) )\n",
    "    \n",
    "cib.merge(left='SCI',right='SCP')\n",
    "\n",
    "if True:\n",
    "    print('intial: {}'.format( cib.SCP.shape[0]+cib.SCI.shape[0]) )\n",
    "    print('final : {}'.format(  cib.SCI_SCP.shape) )"
   ]
  },
  {
   "cell_type": "markdown",
   "metadata": {
    "colab_type": "text",
    "id": "tXQxDy_ts_th"
   },
   "source": [
    "before merge: 48\n",
    ".intial: 38\n",
    "final : (28, 96)\n",
    "..intial: 38\n",
    "final : (30, 142)"
   ]
  },
  {
   "cell_type": "code",
   "execution_count": 4,
   "metadata": {},
   "outputs": [
    {
     "data": {
      "image/png": "[encoded data removed]",
      "text/plain": [
       "<Figure size 288x288 with 1 Axes>"
      ]
     },
     "metadata": {},
     "output_type": "display_data"
    }
   ],
   "source": [
    "cib.plot_sets()"
   ]
  },
  {
   "cell_type": "markdown",
   "metadata": {
    "colab_type": "text",
    "id": "lyYwEqdojkH2"
   },
   "source": [
    "## Unitary tests\n",
    "Copy to test.py:\n",
    "```bash\n",
    "cd tests\n",
    "python test.py\n",
    "```"
   ]
  },
  {
   "cell_type": "code",
   "execution_count": null,
   "metadata": {
    "colab": {},
    "colab_type": "code",
    "id": "ugh0hx54ghMH"
   },
   "outputs": [],
   "source": [
    "import unittest\n",
    "self = unittest.TestCase('__init__')\n",
    "self.assertTrue(True)\n",
    "\n",
    "self.assertTrue( cib.WOS.shape[0]+cib.SCI.shape[0]+cib.SCP.shape[0] == 48 )\n",
    "                  \n",
    "self.assertTrue ( cib.WOS.shape[0]+cib.SCI.shape[0] == 38  )\n",
    "self.assertTrue (  cib.WOS_SCI.shape[0] == 28 ) \n",
    "        \n",
    "         \n",
    "self.assertTrue( cib.WOS_SCI.shape[0]+cib.SCP.shape[0] == 38  )\n",
    "self.assertTrue( cib.WOS_SCI_SCP.shape[0] == 30  )\n",
    "\n",
    "self.assertTrue(list( cib.WOS_SCI_SCP.Tipo.values )==['WOS','WOS',\n",
    "           'WOS','WOS','WOS','WOS','WOS_SCI','SCI','WOS','WOS','WOS','WOS',\n",
    "           'WOS','WOS','WOS','WOS','WOS','WOS_SCI','WOS_SCI','WOS_SCI',\n",
    "           'WOS_SCP','WOS_SCI_SCP','WOS_SCI_SCP','WOS_SCI_SCP','WOS_SCP',\n",
    "           'WOS_SCI_SCP','WOS_SCI_SCP','WOS_SCI_SCP','SCP','SCP'])"
   ]
  },
  {
   "cell_type": "code",
   "execution_count": null,
   "metadata": {
    "colab": {
     "base_uri": "https://localhost:8080/",
     "height": 102
    },
    "colab_type": "code",
    "id": "7746G3jUa4dr",
    "outputId": "44e3cdc2-43de-4b41-f7cc-d3138521fb45"
   },
   "outputs": [],
   "source": [
    "%%bash\n",
    "cd tests\n",
    "python3 test.py"
   ]
  },
  {
   "cell_type": "markdown",
   "metadata": {
    "colab_type": "text",
    "id": "WWNF7iZkPbr9"
   },
   "source": [
    "### In progress... Other database"
   ]
  },
  {
   "cell_type": "code",
   "execution_count": null,
   "metadata": {
    "colab": {
     "base_uri": "https://localhost:8080/",
     "height": 51
    },
    "colab_type": "code",
    "id": "mwVr3x5cbwvY",
    "outputId": "63879690-c517-462b-9ef6-1f43ab877d18"
   },
   "outputs": [],
   "source": [
    "cib.load_biblio('Sample_SCP.xlsx',prefix='NEW')"
   ]
  },
  {
   "cell_type": "code",
   "execution_count": null,
   "metadata": {
    "colab": {},
    "colab_type": "code",
    "id": "-PpQ4BfdPh_b"
   },
   "outputs": [],
   "source": [
    "cib.merge(left='WOS_SCI_SCP',right='NEW',right_DOI='NEW_DOI',\n",
    "            right_TI='NEW_Title',\n",
    "            right_extra_journal='NEW_Source title',\n",
    "            right_author='NEW_Authors',\n",
    "            right_year='NEW_Year')"
   ]
  },
  {
   "cell_type": "code",
   "execution_count": null,
   "metadata": {
    "colab": {
     "base_uri": "https://localhost:8080/",
     "height": 34
    },
    "colab_type": "code",
    "id": "6WWU3mIXPoaL",
    "outputId": "fbba0d3c-9c37-4833-e62b-a253ea3ffe2a"
   },
   "outputs": [],
   "source": [
    "cib.WOS_SCI_SCP_NEW.shape"
   ]
  },
  {
   "cell_type": "code",
   "execution_count": null,
   "metadata": {
    "colab": {},
    "colab_type": "code",
    "id": "4-C0_KEHPpv3"
   },
   "outputs": [],
   "source": []
  }
 ],
 "metadata": {
  "colab": {
   "include_colab_link": true,
   "name": "test_sample.ipynb",
   "provenance": [],
   "version": "0.3.2"
  },
  "kernelspec": {
   "display_name": "Python 3",
   "language": "python",
   "name": "python3"
  },
  "language_info": {
   "codemirror_mode": {
    "name": "ipython",
    "version": 3
   },
   "file_extension": ".py",
   "mimetype": "text/x-python",
   "name": "python",
   "nbconvert_exporter": "python",
   "pygments_lexer": "ipython3",
   "version": "3.5.3"
  }
 },
 "nbformat": 4,
 "nbformat_minor": 1
}
